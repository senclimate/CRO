{
 "cells": [
  {
   "cell_type": "code",
   "execution_count": 1,
   "id": "89234f6a",
   "metadata": {
    "lines_to_next_cell": 2,
    "scrolled": true
   },
   "outputs": [],
   "source": [
    "import numpy as np\n",
    "import matplotlib.pyplot as plt\n",
    "from netCDF4 import Dataset\n",
    "import os\n",
    "import sys\n",
    "import calendar\n",
    "\n",
    "sys.path.append(os.path.abspath(\"./Code\"))\n",
    "sys.path.append(os.path.abspath(\"./Data\"))\n",
    "\n",
    "from RO_solver import *\n",
    "from RO_solver_analytic import *\n",
    "from RO_std_analytic import *\n",
    "from RO_BWJ import *\n",
    "from RO_fitting import *\n",
    "from func_mon_std import *\n",
    "from par_load import *"
   ]
  },
  {
   "cell_type": "markdown",
   "id": "ca9ff937",
   "metadata": {
    "lines_to_next_cell": 2
   },
   "source": [
    "<img src=\"Data/CRO_logo.png\" alt=\"CRO Logo\" width=\"400\"/>"
   ]
  },
  {
   "cell_type": "markdown",
   "id": "649cfcb3",
   "metadata": {
    "cell_marker": "\"\"\""
   },
   "source": [
    "# Community Recharge Oscillator Model (CRO) v0.0 for Python\n",
    "## 1. RO Master Equations\n",
    "\n",
    "- $\\displaystyle \\frac{dT}{dt} = RT + F_{1}h + b_{T}T^{2} − c_{T}T^{3} + d_{T}T \\cdot h + \\sigma_{T}N_{T}(1+g_{T})+E_{T}$\n",
    "\n",
    "\n",
    "- $\\displaystyle \\frac{dh}{dt} = −\\varepsilon{h} − F_{2}T − b_{h}T^{2} + \\sigma_{h}N_{h}+E_{h}$\n",
    "\n",
    "\n",
    "- $\\displaystyle \\frac{d\\xi_T}{dt} = -m_T \\xi_T + \\sqrt{2 m_T} w_T$\n",
    "\n",
    "\n",
    "- $\\displaystyle \\frac{d\\xi_h}{dt} = -m_h \\xi_h + \\sqrt{2 m_h} w_h$\n",
    "\n",
    "\n",
    "\n",
    "- $N_T = \\begin{cases}\n",
    "         \\xi_T, & \\text{if } n_T = 0 \\quad \\text{(red noise)} \\\\\n",
    "         w_T, & \\text{if } n_T = 1 \\quad \\text{(white noise)}\n",
    "         \\end{cases}$\n",
    "\n",
    "\n",
    "\n",
    "- $N_h = \\begin{cases}\n",
    "         \\xi_h, & \\text{if } n_h = 0 \\quad \\text{(red noise)} \\\\\n",
    "         w_h, & \\text{if } n_h = 1 \\quad \\text{(white noise)}\n",
    "         \\end{cases}$\n",
    "\n",
    "\n",
    "- $g_T = \\begin{cases}\n",
    "         B \\cdot T, & \\text{if } n_g = 0 \\quad \\text{(linear multiplicative noise)} \\\\\n",
    "         B \\cdot H(T) \\cdot T, & \\text{if } n_g = 1 \\quad \\text{(Heaviside-based multiplicative noise)} \\\\\n",
    "         0 & \\text{if } n_g = 2 \\quad \\text{(additive noise)}\n",
    "         \\end{cases}$\n",
    "\n",
    "\n",
    "\n",
    "- $T$ (K) and $h$ (m) represent the monthly sea surface temperature (SST) and thermocline depth anomalies, respectively.\n",
    "\n",
    "- $w_T$ and $w_h$ are uncorrelated Gaussian white noise forcings with zero mean and unit variance, applied to the $T$ and $h$ equations, respectively.\n",
    "\n",
    "- $E_T$ and $E_h$ are external forcings applied to the $T$ and $h$ equations, respectively.\n",
    "\n",
    "- The physical meaning and units of each parameter will be provided in the final version.\n",
    "\n",
    "\n",
    "\n",
    "### Linear and Nonlinear Parameters:\n",
    "\n",
    "$R$ (`R`), $F_1$ (`F1`), $F_2$ (`F2`), $\\varepsilon$ (`epsilon`), $b_T$ (`b_T`), $c_T$ (`c_T`), $d_T$ (`d_T`), $b_h$ (`b_h`)\n",
    "\n",
    "- `'parameter': []` → interpreted as zero (e.g., `'R': []` is the same as `'R': [0.0]`)\n",
    "\n",
    "- `'parameter': [value]` → only the annual mean is used (e.g., `'R': [-0.05]` means the annual mean value of –0.05 is used for R)\n",
    "\n",
    "- `'parameter': [mean, amplitude, phase (in radians)]` → annual mean and annual seasonality are used\n",
    "  (e.g., `'R': [-0.05, 0.05, np.pi]` means R has an annual mean of –0.05 and a seasonal variation with amplitude 0.05 and phase shift $\\pi$)\n",
    "\n",
    "- `'parameter': [mean, amp₁, phase₁ (in radians), amp₂, phase₂ (in radians)]` → annual mean, annual seasonality, and semi-annual seasonality are used\n",
    "  (e.g., `'R': [-0.05, 0.05, np.pi, 0.01, np.pi/2]` means R has an annual mean of –0.05, annual amplitude 0.05 with phase $\\pi$, and semi-annual amplitude 0.01 with phase $\\pi/2$)\n",
    "\n",
    "- Any other form → **invalid** (e.g., `'parameter': [mean, amp]` will raise an error)\n",
    "\n",
    "### Noise Parameters:\n",
    "\n",
    "$\\sigma_T$ (`sigma_T`), $\\sigma_h$ (`sigma_h`), $B$ (`B`), $m_T$ (`m_T`), $m_h$ (`m_h`)\n",
    "\n",
    "- These follow the same format as the linear and nonlinear parameters, meaning that **seasonality can be included for RO simulations**.\n",
    "\n",
    "- However, **RO parameter fitting does not support seasonality** in these parameters.\n",
    "  Therefore, it is strongly recommended to use **annual means only** for consistency during RO fitting.\n",
    "\n",
    "### Noise Option Parameters:\n",
    "\n",
    "$n_T$ (`n_T`), $n_h$ (`n_h`), $n_g$ (`n_g`)\n",
    "\n",
    "- `n_T` and `n_h` are flags that specify the noise type for the $T$ and $h$ equations, respectively:  \n",
    "  - `0`: red noise  \n",
    "  - `1`: white noise\n",
    "\n",
    "- `n_g` is a flag for the **multiplicative noise type** in the $T$ equation:  \n",
    "  - `0`: linear multiplicative noise $(1 + B \\cdot T)$  \n",
    "  - `1`: Heaviside-based multiplicative noise $(1 + B \\cdot H(T) \\cdot T)$  \n",
    "  - `2`: no multiplicative noise (i.e., additive only)\n",
    "\n",
    "- `'parameter': [integer]` or `'parameter': integer` is a valid option; any other format will raise an error.\n",
    "\n",
    "- Mixed noise types (e.g., `n_T = 0`, `n_h = 1`) are **allowed** in the solver but **not allowed during parameter fitting**. \n",
    "  Therefore, it is strongly recommended to use a **consistent noise type** (either white or red) for both the $T$ and $h$ equations."
   ]
  },
  {
   "cell_type": "markdown",
   "id": "1a1adf00",
   "metadata": {
    "cell_marker": "\"\"\""
   },
   "source": [
    "## 2. RO Simulation Setup\n",
    "\n",
    "This is the simplest configuration for the RO model, using:\n",
    "\n",
    "- **White noise**: `n_T = 1`, `n_h = 1`.\n",
    "\n",
    "- **Linear system**: nonlinear terms (`b_T`, `c_T`, `d_T`, `b_h`) are zero. Note that All unspecified parameters default to zero.\n",
    "\n",
    "- **Additive noise only**: no multiplicative component (`n_g = 2`).\n",
    "\n",
    "The RO equation is written as:\n",
    "\n",
    "- $\\displaystyle \\frac{dT}{dt} = RT + F_{1}h + \\sigma_{T}w_{T}$\n",
    "\n",
    "\n",
    "- $\\displaystyle \\frac{dh}{dt} = −\\varepsilon{h} − F_{2}T + \\sigma_{h}w_{h}$\n",
    "\n",
    "The following block sets parameters for the RO simulation."
   ]
  },
  {
   "cell_type": "code",
   "execution_count": 2,
   "id": "1bdb5445",
   "metadata": {
    "lines_to_next_cell": 2,
    "scrolled": true
   },
   "outputs": [],
   "source": [
    "par = {'R': [-0.05],       # dT/dt=R*T (unit: month^-1)        \n",
    "       'F1': [0.02],       # dT/dt=F1*h (unit: K m^-1 month^-1)\n",
    "       'F2': [0.9],        # dh/dt=-F2*T (unit: m K^-1 month^-1)\n",
    "       'epsilon': [0.03],  # dh/dt=-epsilon*h (unit: month^-1)\n",
    "       'b_T': [],          # dT/dt=(b_T)*(T^2) (unit: K^-1 month^-1)\n",
    "       'c_T': [],          # dT/dt=-(c_T)*(T^3) (unit: K^-2 month^-1)\n",
    "       'd_T': [],          # dT/dt=(d_T)*(T*h) (unit: m^-1 month^-1)\n",
    "       'b_h': [],          # dh/dt=-(b_h)*(T^2) (unit: K^-2 m month^-1)\n",
    "       'sigma_T': [0.2],   # dT/dt=(sigma_T)*(N_T) (unit: K month^-0.5 if n_T=1, K month^-1 if n_T=0)\n",
    "       'sigma_h': [1.2],   # dh/dt=(sigma_h)*(N_h) (unit: m month^-0.5 if n_h=1, m month^-1 if n_h=0)\n",
    "       'B': [],            # T/dt=(sigma_T)*(1+B*T)*(N_T) or dT/dt=(sigma_T)*(1+B*H(T)*T)*(N_T) (unit: K^-1)\n",
    "       'm_T': [],          # d(xi_T)/dt=-m*T*(xi_T); (unit: month^-1)\n",
    "       'm_h': [],          # d(xi_h)/dt=-m*h*(xi_h); (unit: month^-1)\n",
    "       'n_T': [1],         # noise type for T (0: red noise, 1: white noise) (unitless)\n",
    "       'n_h': [1],         # noise type for h (0: red noise, 1: white noise) (unitless)\n",
    "       'n_g': [2]}         # multiplicative noise type for T (0: linear, 1: Heaviside linear, 2: omit this option) \n",
    "                           # (note: only valid when B is not zero) (unitless)"
   ]
  },
  {
   "cell_type": "markdown",
   "id": "f9a2f723",
   "metadata": {
    "cell_marker": "\"\"\"",
    "lines_to_next_cell": 2
   },
   "source": [
    "- The following block sets additional options for the RO simulation."
   ]
  },
  {
   "cell_type": "code",
   "execution_count": 3,
   "id": "a6790adb",
   "metadata": {
    "scrolled": true
   },
   "outputs": [],
   "source": [
    "IC = [1.0, 0.0]              # Initial conditions for T and h\n",
    "N = 12 * 100                 # Simulation length in months (e.g., 100 years)\n",
    "NE = 2                       # Number of ensemble members"
   ]
  },
  {
   "cell_type": "markdown",
   "id": "a22d8b4f",
   "metadata": {},
   "source": [
    "- The RO simulation can be run by setting four settings set above: par, IC, N, and NE.\n",
    "- The following block sets additional **optional settings** for the RO simulation.\n",
    "- The user may skip specifying these options. If the user doesn't specify these options, the RO simulation\n",
    "runs with the default settings."
   ]
  },
  {
   "cell_type": "code",
   "execution_count": 4,
   "id": "9f77a004",
   "metadata": {
    "scrolled": true
   },
   "outputs": [],
   "source": [
    "NM = \"EH\"                    # Optional: Numerical integration method for\n",
    "                             #           RO solver \"EH\" (Euler–Heun, default) \n",
    "                             #           or \"EM\" (Euler–Maruyama)\n",
    "dt = 0.1                     # Optional: Time step for numerical integration \n",
    "                             #           in months. Default = 0.1\n",
    "saveat = 1.0                 # Optional: Interval for saving outputs in months. \n",
    "                             #           Default = 1.0\n",
    "savemethod = \"sampling\"      # Optional: Output method. \"sampling\" saves \n",
    "                             #           instantaneous values, \"mean\" saves \n",
    "                             #           time-averaged values over each save \n",
    "                             #           interval. Default = \"sampling\"\n",
    "EF = None                    # Optional: External forcing dictionary.\n",
    "                             #           If EF is None (or not specified), \n",
    "                             #           it defaults to:\n",
    "                             #           EF = {'E_T': [0.0], 'E_h': [0.0]}\n",
    "                             #           Same format and interpretation as \n",
    "                             #           other RO parameters. Example:\n",
    "                             #           EF = {'E_T': [-0.01, 0.02, np.pi],\n",
    "                             #                 'E_h': [-0.01]}\n",
    "noise_custom = 999           # Optional: Noise specification.\n",
    "                             #   - If None or not provided: \n",
    "                             #     uses internally generated noise \n",
    "                             #     (different each run; Default)\n",
    "                             #   - If an integer: uses as the random seed for\n",
    "                             #     reproducible noise with the reference number\n",
    "                             #   - If ndarray: user-supplied noise \n",
    "                             #     (shape must be (int(N/dt) - 1, 4))\n",
    "                             #     The first two columns of the noise array are \n",
    "                             #     applied to the main T and h equations.\n",
    "                             #     The last two columns are used as noise terms \n",
    "                             #     for the red noise processes."
   ]
  },
  {
   "cell_type": "markdown",
   "id": "5a271c93",
   "metadata": {
    "cell_marker": "\"\"\""
   },
   "source": [
    "## 3. RO Simulations \n",
    "\n",
    "### Basic Usage\n",
    "\n",
    "**`T_ro, h_ro, _ = RO_solver(par, IC, N, NE)`**\n",
    "\n",
    "This is the simplest setup:\n",
    "\n",
    "- `T_ro` and `h_ro` are arrays with shape `(N, NE)`, where `N` is the number of time steps and `NE` is the number of ensemble members.\n",
    "\n",
    "- The third output (`_`) is the noise time series, with shape `(N, 4, NE)`."
   ]
  },
  {
   "cell_type": "code",
   "execution_count": 5,
   "id": "13387c51",
   "metadata": {
    "cell_marker": "\"\"\"",
    "scrolled": true
   },
   "outputs": [
    {
     "name": "stdout",
     "output_type": "stream",
     "text": [
      "---------------------------------------------------------------------------------\n",
      "Welcome to the CRO Solver! Your simulation setup is as follows:\n",
      "---------------------------------------------------------------------------------\n",
      " - Total simulation length: N = 1200 months\n",
      " - Number of ensemble members: NE = 2\n",
      " - Numerical integration time step: dt = 0.1 months (default: 0.1)\n",
      " - Data output interval: saveat = 1.0 months (default: 1.0)\n",
      " - Initial conditions: IC = [T0, h0] = [1.0, 0.0]\n",
      " - Input parameters have the expected shapes.\n",
      " - 'n_T' = 1: White noise forcing in the T equation; 'm_T' is ignored.\n",
      " - 'n_h' = 1: White noise forcing in the h equation; 'm_h' is ignored.\n",
      " - 'n_g' = 2: Additive noise is used in the T equation; 'B' is ignored.\n",
      " - Numerical integration method: NM = 'EH' (Euler–Heun method; default)\n",
      " - Data saving method: savemethod = sampling (default)\n",
      " - External forcing is not given, therefore using\n",
      "   EF = {'E_T': [0.0, 0.0, 0.0, 0.0, 0.0], 'E_h': [0.0, 0.0, 0.0, 0.0, 0.0]}.\n",
      " - noise_custom = None: System-generated noise is used and changes at every run.\n",
      "---------------------------------------------------------------------------------\n",
      "Numerical integration is being performed:\n",
      "---------------------------------------------------------------------------------\n",
      " - Ensemble member: 1/2\n",
      " - Ensemble member: 2/2\n",
      "---------------------------------------------------------------------------------\n",
      "All steps are successfully completed!\n",
      "---------------------------------------------------------------------------------\n"
     ]
    },
    {
     "data": {
      "image/png": "[encoded data removed]",
      "text/plain": [
       "<Figure size 432x288 with 1 Axes>"
      ]
     },
     "metadata": {
      "needs_background": "light"
     },
     "output_type": "display_data"
    }
   ],
   "source": [
    "# Example 3-1. Solve RO with default settings\n",
    "T_ro, h_ro, _ = RO_solver(par, IC, N, NE)   \n",
    "\n",
    "time_axis = np.arange(0, N, saveat)\n",
    "num_en = 0 # plot first ensemble member solution of T\n",
    "\n",
    "plt.figure()\n",
    "plt.plot(time_axis, T_ro[:, num_en],  label='Numerical sampling',  alpha=0.5)\n",
    "plt.xlabel(\"Time (months)\")\n",
    "plt.ylabel(\"T\")\n",
    "plt.legend()\n",
    "plt.grid()\n",
    "plt.show()"
   ]
  },
  {
   "cell_type": "markdown",
   "id": "d5d354c8",
   "metadata": {
    "cell_marker": "\"\"\""
   },
   "source": [
    "### Advanced Usage\n",
    "\n",
    "**`T_ro, h_ro, _ = RO_solver(par, IC, N, NE, NM)`**\n",
    "\n",
    "**`T_ro, h_ro, _ = RO_solver(par, IC, N, NE, NM, dt)`**                      \n",
    "\n",
    "**`T_ro, h_ro, _ = RO_solver(par, IC, N, NE, NM, dt, saveat)`**              \n",
    "\n",
    "**`T_ro, h_ro, _ = RO_solver(par, IC, N, NE, NM, dt, saveat, savemethod)`**  \n",
    "\n",
    "**`T_ro, h_ro, _ = RO_solver(par, IC, N, NE, NM, dt, saveat, savemethod, EF)`**                             \n",
    "\n",
    "**`T_ro, h_ro, _ = RO_solver(par, IC, N, NE, NM, dt, saveat, savemethod, EF, noise_custom)`**               \n",
    "\n",
    "- Optional arguments allow for more control.\n",
    "\n",
    "- Each additional argument gives more precise control over the solver. \n",
    "\n",
    "- Refer to the previous section for details on each argument."
   ]
  },
  {
   "cell_type": "code",
   "execution_count": 6,
   "id": "cd5d43cd",
   "metadata": {
    "cell_marker": "\"\"\"",
    "scrolled": true
   },
   "outputs": [
    {
     "name": "stdout",
     "output_type": "stream",
     "text": [
      "---------------------------------------------------------------------------------\n",
      "Welcome to the CRO Solver! Your simulation setup is as follows:\n",
      "---------------------------------------------------------------------------------\n",
      " - Total simulation length: N = 1200 months\n",
      " - Number of ensemble members: NE = 2\n",
      " - Numerical integration time step: dt = 0.1 months (default: 0.1)\n",
      " - Data output interval: saveat = 1.0 months (default: 1.0)\n",
      " - Initial conditions: IC = [T0, h0] = [1.0, 0.0]\n",
      " - Input parameters have the expected shapes.\n",
      " - 'n_T' = 1: White noise forcing in the T equation; 'm_T' is ignored.\n",
      " - 'n_h' = 1: White noise forcing in the h equation; 'm_h' is ignored.\n",
      " - 'n_g' = 2: Additive noise is used in the T equation; 'B' is ignored.\n",
      " - Numerical integration method: NM = 'EH' (Euler–Heun method; default)\n",
      " - Data saving method: savemethod = sampling (default)\n",
      " - External forcing is not given, therefore using\n",
      "   EF = {'E_T': [0.0, 0.0, 0.0, 0.0, 0.0], 'E_h': [0.0, 0.0, 0.0, 0.0, 0.0]}.\n",
      " - noise_custom = 999: Seed number 999 is used to generate\n",
      "   the noises shared for all ensemble members.\n",
      "---------------------------------------------------------------------------------\n",
      "Numerical integration is being performed:\n",
      "---------------------------------------------------------------------------------\n",
      " - Ensemble member: 1/2\n",
      " - Ensemble member: 2/2\n",
      "---------------------------------------------------------------------------------\n",
      "All steps are successfully completed!\n",
      "---------------------------------------------------------------------------------\n"
     ]
    },
    {
     "data": {
      "image/png": "[encoded data removed]",
      "text/plain": [
       "<Figure size 432x288 with 1 Axes>"
      ]
     },
     "metadata": {
      "needs_background": "light"
     },
     "output_type": "display_data"
    }
   ],
   "source": [
    "# Example 3-2. Solve RO with user-specified settings\n",
    "T_ro, h_ro, _ = RO_solver(par, IC, N, NE, NM, dt, saveat, savemethod, EF, noise_custom)     \n",
    "\n",
    "time_axis = np.arange(0, N, saveat)\n",
    "num_en = 0 # plot first ensemble member solution of T\n",
    "\n",
    "plt.figure()\n",
    "plt.plot(time_axis, T_ro[:, num_en],  label='Numerical sampling',  alpha=0.5)\n",
    "plt.xlabel(\"Time (months)\")\n",
    "plt.ylabel(\"T\")\n",
    "plt.legend()\n",
    "plt.grid()\n",
    "plt.show()"
   ]
  },
  {
   "cell_type": "markdown",
   "id": "becc81b4",
   "metadata": {
    "cell_marker": "\"\"\""
   },
   "source": [
    "### Analytical Solutions\t\t\t\t\t\t\t\t\t\t\t\t\t\t\t\t\t\t\t  \n",
    "\n",
    "**`T_ref, h_ref, _ = RO_solver_analytic(par, IC, N, NE)`**\n",
    "\n",
    "**`T_ref, h_ref, _ = RO_solver_analytic(par, IC, N, NE, dt)`**               \n",
    "\n",
    "**`T_ref, h_ref, _ = RO_solver_analytic(par, IC, N, NE, dt, saveat)`**       \n",
    "\n",
    "**`T_ref, h_ref, _ = RO_solver_analytic(par, IC, N, NE, dt, saveat, savemethod)`**                       \n",
    "\n",
    "**`T_ref, h_ref, _ = RO_solver_analytic(par, IC, N, NE, dt, saveat, savemethod, noise_custom)`**  \n",
    "\n",
    "- This function returns the **analytical solution** for the **linear RO system** without seasonality, using **white additive noise**.  \n",
    "  Its usage is structurally similar to `RO_solver`, but with the following key differences: `'NM'` (numerical method) and `'EF'` (external forcing) are **not required or accepted**.\n",
    "\n",
    "- To ensure a **meaningful comparison** with the numerical solution from `RO_solver`, use the **same seed** for `noise_custom` in both simulations."
   ]
  },
  {
   "cell_type": "code",
   "execution_count": 7,
   "id": "d4f8a37f",
   "metadata": {
    "cell_marker": "\"\"\"",
    "scrolled": true
   },
   "outputs": [
    {
     "name": "stdout",
     "output_type": "stream",
     "text": [
      "---------------------------------------------------------------------------------\n",
      "Welcome to the CRO Solver! Your simulation setup is as follows:\n",
      "---------------------------------------------------------------------------------\n",
      " - Total simulation length: N = 1200 months\n",
      " - Number of ensemble members: NE = 2\n",
      " - Numerical integration time step: dt = 0.1 months (default: 0.1)\n",
      " - Data output interval: saveat = 1.0 months (default: 1.0)\n",
      " - Initial conditions: IC = [T0, h0] = [1.0, 0.0]\n",
      " - Input parameters have the expected shapes.\n",
      " - 'n_T' = 1: White noise forcing in the T equation; 'm_T' is ignored.\n",
      " - 'n_h' = 1: White noise forcing in the h equation; 'm_h' is ignored.\n",
      " - 'n_g' = 2: Additive noise is used in the T equation; 'B' is ignored.\n",
      " - Numerical integration method: NM = 'EH' (Euler–Heun method; default)\n",
      " - Data saving method: savemethod = sampling (default)\n",
      " - External forcing is not given, therefore using\n",
      "   EF = {'E_T': [0.0, 0.0, 0.0, 0.0, 0.0], 'E_h': [0.0, 0.0, 0.0, 0.0, 0.0]}.\n",
      " - noise_custom = 999: Seed number 999 is used to generate\n",
      "   the noises shared for all ensemble members.\n",
      "---------------------------------------------------------------------------------\n",
      "Numerical integration is being performed:\n",
      "---------------------------------------------------------------------------------\n",
      " - Ensemble member: 1/2\n",
      " - Ensemble member: 2/2\n",
      "---------------------------------------------------------------------------------\n",
      "All steps are successfully completed!\n",
      "---------------------------------------------------------------------------------\n",
      "---------------------------------------------------------------------------------\n",
      "Welcome to the CRO Analytical Solver!\n",
      "Ensure that the same arguments are provided as for RO_solver,\n",
      "except that 'NM' and 'EF' are not required.\n",
      "---------------------------------------------------------------------------------\n",
      "All steps are successfully completed!\n",
      "---------------------------------------------------------------------------------\n"
     ]
    },
    {
     "data": {
      "image/png": "[encoded data removed]",
      "text/plain": [
       "<Figure size 432x288 with 1 Axes>"
      ]
     },
     "metadata": {
      "needs_background": "light"
     },
     "output_type": "display_data"
    }
   ],
   "source": [
    "# Example 3-3. Compare numerical and analyticla solution\n",
    "T_ro, h_ro, _ = RO_solver(par, IC, N, NE, NM, dt, saveat, savemethod, EF, noise_custom)  \n",
    "T_ref, h_ref, _ = RO_solver_analytic(par, IC, N, NE, dt, saveat, savemethod, noise_custom)\n",
    "\n",
    "time_axis = np.arange(0, N, saveat)\n",
    "num_en = 0 # plot first ensemble member solution of T\n",
    "\n",
    "plt.figure()\n",
    "plt.plot(time_axis, T_ro[:, num_en],  label='Numerical sampling',  alpha=0.5)\n",
    "plt.plot(time_axis, T_ref[:, num_en], label='Analytical sampling', alpha=0.5)\n",
    "plt.xlabel(\"Time (months)\")\n",
    "plt.ylabel(\"T\")\n",
    "plt.legend()\n",
    "plt.grid()\n",
    "plt.show()"
   ]
  },
  {
   "cell_type": "markdown",
   "id": "f4a36ac8",
   "metadata": {
    "cell_marker": "\"\"\""
   },
   "source": [
    "**`RO_std_analytic(par)`**\n",
    "\n",
    "- It returns the **theoretical standard deviations** for the **linear-white-additive** configuration based on the given parameter dictionary `par`.\n",
    "\n",
    "**`BWJ = RO_BWJ(par)`**\n",
    "\n",
    "- It computes the expected **BJ** and **Wyrtki** indices, where the real part (`{BWJ.real}`) corresponds to the BJ index and the imaginary part (`{BWJ.imag}`) corresponds to the Wyrtki index, based on the given parameter dictionary `par`.\n",
    "\t\t\t\t\t\t\t\t\t\t\t\t\t\t\t\t\t\t\t  "
   ]
  },
  {
   "cell_type": "code",
   "execution_count": 8,
   "id": "8697e186",
   "metadata": {
    "scrolled": true
   },
   "outputs": [
    {
     "name": "stdout",
     "output_type": "stream",
     "text": [
      "---------------------------------------------------------------------------------\n",
      "Welcome to the CRO Solver! Your simulation setup is as follows:\n",
      "---------------------------------------------------------------------------------\n",
      " - Total simulation length: N = 1200 months\n",
      " - Number of ensemble members: NE = 2\n",
      " - Numerical integration time step: dt = 0.1 months (default: 0.1)\n",
      " - Data output interval: saveat = 1.0 months (default: 1.0)\n",
      " - Initial conditions: IC = [T0, h0] = [1.0, 0.0]\n",
      " - Input parameters have the expected shapes.\n",
      " - 'n_T' = 1: White noise forcing in the T equation; 'm_T' is ignored.\n",
      " - 'n_h' = 1: White noise forcing in the h equation; 'm_h' is ignored.\n",
      " - 'n_g' = 2: Additive noise is used in the T equation; 'B' is ignored.\n",
      " - Numerical integration method: NM = 'EH' (Euler–Heun method; default)\n",
      " - Data saving method: savemethod = sampling (default)\n",
      " - External forcing is not given, therefore using\n",
      "   EF = {'E_T': [0.0, 0.0, 0.0, 0.0, 0.0], 'E_h': [0.0, 0.0, 0.0, 0.0, 0.0]}.\n",
      " - noise_custom = None: System-generated noise is used and changes at every run.\n",
      "---------------------------------------------------------------------------------\n",
      "Numerical integration is being performed:\n",
      "---------------------------------------------------------------------------------\n",
      " - Ensemble member: 1/2\n",
      " - Ensemble member: 2/2\n",
      "---------------------------------------------------------------------------------\n",
      "All steps are successfully completed!\n",
      "---------------------------------------------------------------------------------\n",
      "Standard drviations for T (analytical):\n",
      "0.6679474875720741\n",
      "Standard drviations for T (ensemble mean for numerical solutions):\n",
      "0.6413586940245374\n",
      "Standard drviations for h (analytical):\n",
      "4.531937945124749\n",
      "Standard drviations for h (ensemble mean for numerical solutions):\n",
      "4.38401361226728\n",
      "BJ index: -0.04 [1/month]\n",
      "Wyrtki index: 0.134 [1/month]. This corresponds to a periodicity of 46.963 months.\n"
     ]
    }
   ],
   "source": [
    "# Example 3-4. Compare standard deviation of numerical and analytial solutions\n",
    "T_ref_std, h_ref_std = RO_std_analytic(par) # calculate theoretical standard deviations\n",
    "\n",
    "T_ro, h_ro, _ = RO_solver(par, IC, N, NE, NM, dt, saveat, savemethod, noise_custom=None)\n",
    "T_ro_std = np.std(T_ro, axis=0); h_ro_std = np.std(h_ro, axis=0)\n",
    "T_ro_std_mean = np.mean(T_ro_std); h_ro_std_mean = np.mean(h_ro_std) # ensemble mean\n",
    "\n",
    "print(\"Standard drviations for T (analytical):\")\n",
    "print(T_ref_std)\n",
    "print(\"Standard drviations for T (ensemble mean for numerical solutions):\")\n",
    "print(T_ro_std_mean)\n",
    "print(\"Standard drviations for h (analytical):\")\n",
    "print(h_ref_std)\n",
    "print(\"Standard drviations for h (ensemble mean for numerical solutions):\")\n",
    "print(h_ro_std_mean)\n",
    "\n",
    "\n",
    "# Example 3-5. Calculate BWJ Index\n",
    "BWJ = RO_BWJ(par)\n",
    "print(f\"BJ index: {BWJ.real} [1/month]\")\n",
    "print(f\"Wyrtki index: {BWJ.imag:.3f} [1/month]. \"\n",
    "      f\"This corresponds to a periodicity of {2*np.pi/BWJ.imag:.3f} months.\")"
   ]
  },
  {
   "cell_type": "markdown",
   "id": "817aff60",
   "metadata": {
    "cell_marker": "\"\"\"",
    "lines_to_next_cell": 2
   },
   "source": [
    "## 4. RO Parameter Fitting Setup\n",
    "\n",
    "### Input T and h Time Series\n",
    "\n",
    "- T and h are input timeseries used for the fitting.\n",
    "\n",
    "- T and h must be 1D time series arrays with a uniform time step. \n",
    "\n",
    "### Specifiying RO Type\n",
    "\n",
    "- These options define the RO model type used for fitting.\n",
    "\n",
    "- par_option_T specifies the linear and nonlinear terms in dT/dt\n",
    "\n",
    "- par_option_h specifies the linear and nonlinear terms in dh/dt\n",
    "\n",
    "- The following example shows how to set the RO type as linear-white-additive RO for the fitting."
   ]
  },
  {
   "cell_type": "code",
   "execution_count": 9,
   "id": "620e2544",
   "metadata": {
    "cell_marker": "\"\"\"",
    "lines_to_next_cell": 2,
    "scrolled": true
   },
   "outputs": [],
   "source": [
    "par_option_T = {\"R\": 1, \"F1\": 1, \"b_T\": 0, \"c_T\": 0, \"d_T\": 0}\n",
    "par_option_h = {\"F2\": 1, \"epsilon\": 1, \"b_h\": 0}"
   ]
  },
  {
   "cell_type": "markdown",
   "id": "a361affb",
   "metadata": {
    "cell_marker": "\"\"\"",
    "lines_to_next_cell": 2
   },
   "source": [
    "- For keys in `par_option_T` and `par_option_h`, allowed values are:\n",
    "  - `0` — Do not estimate\n",
    "  - `1` — Estimate only the annual mean\n",
    "  - `3` — Estimate annual mean + annual seasonality\n",
    "  - `5` — Estimate annual mean + annual + semi-annual seasonality    "
   ]
  },
  {
   "cell_type": "markdown",
   "id": "d6d9cf58",
   "metadata": {
    "cell_marker": "\"\"\"",
    "lines_to_next_cell": 2
   },
   "source": [
    "- par_option_noise specifies the noise type"
   ]
  },
  {
   "cell_type": "code",
   "execution_count": 10,
   "id": "15dd56f2",
   "metadata": {
    "cell_marker": "\"\"\"",
    "lines_to_next_cell": 2,
    "scrolled": true
   },
   "outputs": [],
   "source": [
    "par_option_noise = {\"T\": \"white\", \"h\": \"white\", \"T_type\": \"multiplicative\"}"
   ]
  },
  {
   "cell_type": "markdown",
   "id": "d619bb03",
   "metadata": {
    "cell_marker": "\"\"\"",
    "lines_to_next_cell": 2
   },
   "source": [
    "- Valid options for $T$ and $h$ are: \n",
    "    - `\"white\"`: white noise forcing\n",
    "    - `\"red\"`: red noise forcing\n",
    "- Both $T$ and $h$ **must use the same noise type**; otherwise, an error is raised.\n",
    "- Valid options for `T-type` (noise structure for $T$) are:  \n",
    "    - `\"additive\"`: T noise forcing is additive\n",
    "    - `\"multiplicative\"`: T noise forcing is multiplicative\n",
    "    - `\"multiplicative-H\"`: T noise forcing is Heaviside based-multiplicative noise"
   ]
  },
  {
   "cell_type": "markdown",
   "id": "97ad4792",
   "metadata": {
    "cell_marker": "\"\"\"",
    "lines_to_next_cell": 2
   },
   "source": [
    "### Advanced Usage (optional)\n",
    "\n",
    "- The following block sets additional **optional settings** for the RO parameter fitting.\n",
    "- The user may skip specifying these options. If the user doesn't specify these options, the RO parameter\n",
    "fitting runs with the default settings.\n",
    "- method_fitting specifies the parameter fitting method:\n",
    "    - `\"LR-F\"`: Linear regression (tendency with forward differencing scheme) \n",
    "    - `\"LR-C\"`: Linear regression (tendency with central differencing scheme)\n",
    "    - `\"LR-F-MAC\"`: Linear regression (tendency with forward differencing scheme) with Moments Analytical Constraints estimation for T noise parameters \n",
    "    - `\"MLE\"`: Maximum Likelihood Estimation (tendency with forward differencing scheme)\n",
    "- dt specifies time interval of input T and h time series in month (default = 1.0).\n",
    "- The default method depends on the specified RO type, as indicated in `\"table_default_fitting_method.txt\"`.\n",
    "- Details of the fitting methods are documented in the manual and the accompanying paper."
   ]
  },
  {
   "cell_type": "code",
   "execution_count": 11,
   "id": "5d0440d6",
   "metadata": {
    "cell_marker": "\"\"\"",
    "lines_to_next_cell": 2,
    "scrolled": true
   },
   "outputs": [],
   "source": [
    "method_fitting=\"MLE\"\n",
    "dt = 1.0"
   ]
  },
  {
   "cell_type": "markdown",
   "id": "3818a5ee",
   "metadata": {
    "cell_marker": "\"\"\"",
    "lines_to_next_cell": 2
   },
   "source": [
    "## 5. RO Parameter Fitting from Time Series\n",
    "\n",
    "### Basic Usage\n",
    "\n",
    "**`par_fitted = RO_fitting(T, h, par_option_T, par_option_h, par_option_noise)`**\n",
    "\n",
    "- `par_fitted` has the same format as `par` in the section 2. "
   ]
  },
  {
   "cell_type": "code",
   "execution_count": 12,
   "id": "187b3a88",
   "metadata": {
    "cell_marker": "\"\"\"",
    "lines_to_next_cell": 2,
    "scrolled": true
   },
   "outputs": [
    {
     "name": "stdout",
     "output_type": "stream",
     "text": [
      "---------------------------------------------------------------------------------\n",
      "Welcome to the CRO Solver! Your simulation setup is as follows:\n",
      "---------------------------------------------------------------------------------\n",
      " - Total simulation length: N = 1200 months\n",
      " - Number of ensemble members: NE = 2\n",
      " - Numerical integration time step: dt = 1.0 months (default: 0.1)\n",
      " - Data output interval: saveat = 1.0 months (default: 1.0)\n",
      " - Initial conditions: IC = [T0, h0] = [1.0, 0.0]\n",
      " - Input parameters have the expected shapes.\n",
      " - 'n_T' = 1: White noise forcing in the T equation; 'm_T' is ignored.\n",
      " - 'n_h' = 1: White noise forcing in the h equation; 'm_h' is ignored.\n",
      " - 'n_g' = 2: Additive noise is used in the T equation; 'B' is ignored.\n",
      " - Numerical integration method: NM = 'EH' (Euler–Heun method; default)\n",
      " - Data saving method: savemethod = sampling (default)\n",
      " - External forcing is not given, therefore using\n",
      "   EF = {'E_T': [0.0, 0.0, 0.0, 0.0, 0.0], 'E_h': [0.0, 0.0, 0.0, 0.0, 0.0]}.\n",
      " - noise_custom = 999: Seed number 999 is used to generate\n",
      "   the noises shared for all ensemble members.\n",
      "---------------------------------------------------------------------------------\n",
      "Numerical integration is being performed:\n",
      "---------------------------------------------------------------------------------\n",
      " - Ensemble member: 1/2\n",
      " - Ensemble member: 2/2\n",
      "---------------------------------------------------------------------------------\n",
      "All steps are successfully completed!\n",
      "---------------------------------------------------------------------------------\n",
      "---------------------------------------------------------------------------------\n",
      "Welcome to CRO Fitting! Your fitting setups:\n",
      "---------------------------------------------------------------------------------\n",
      " - Data time step is not given, defaulting to: dt = 1.0 months.\n",
      " - Time series length: N = len(T)*dt = 1200.0 months.\n",
      " - Prescribed terms: {'R': 1, 'F1': 1, 'b_T': 0, 'c_T': 0, 'd_T': 0}. \n",
      "                     {'F2': 1, 'epsilon': 1, 'b_h': 0}. \n",
      "   0 - Do not prescribe. \n",
      "   1 - Prescribe only the annual mean. \n",
      "   3 - Prescribe the annual mean and annual seasonality. \n",
      "   5 - Prescribe the annual mean, annual seasonality, and semi-annual seasonality.\n",
      " - Noise options: {'T': 'white', 'h': 'white', 'T_type': 'additive'}.\n",
      " - Fitting method for T and h main equations: None.\n",
      "Referring to table_default_fitting_method.txt and using LR-F\n",
      "---------------------------------------------------------------------------------\n",
      "All steps are successfully completed!\n",
      "---------------------------------------------------------------------------------\n",
      "The fitting results are:\n",
      "{'R': [-0.06198349689406639], 'F1': [0.018196886613066055], 'F2': [0.843220911008262], 'epsilon': [0.0355235634971208], 'b_T': [], 'c_T': [], 'd_T': [], 'b_h': [], 'sigma_T': [0.20594347822931586], 'sigma_h': [1.2042566146032154], 'B': [], 'm_T': [], 'm_h': [], 'n_T': [1], 'n_h': [1], 'n_g': [2]}\n"
     ]
    }
   ],
   "source": [
    "# Example 5-1. RO parameter fitting with default settings\n",
    "# using simulated T and h.\n",
    "T_ro, h_ro, _ = RO_solver(par, IC, N, NE, NM, dt, saveat, savemethod, EF, noise_custom)\n",
    "num_en = 0\n",
    "\n",
    "par_option_T = {\"R\": 1, \"F1\": 1, \"b_T\": 0, \"c_T\": 0, \"d_T\": 0}\n",
    "par_option_h = {\"F2\": 1, \"epsilon\": 1, \"b_h\": 0}\n",
    "par_option_noise = {\"T\": \"white\", \"h\": \"white\", \"T_type\": \"additive\"}\n",
    "\n",
    "par_fitted = RO_fitting(T_ro[:,num_en], h_ro[:,num_en], par_option_T, par_option_h, par_option_noise)\n",
    "\n",
    "print(\"The fitting results are:\")\n",
    "print(par_fitted)"
   ]
  },
  {
   "cell_type": "markdown",
   "id": "37b4b2df",
   "metadata": {
    "cell_marker": "\"\"\"",
    "lines_to_next_cell": 2
   },
   "source": [
    "### Advanced Usage\n",
    "\n",
    "**`par_fitted = RO_fitting(T, h, par_option_T, par_option_h, par_option_noise, method_fitting)`**  \n",
    "\n",
    "**`par_fitted = RO_fitting(T, h, par_option_T, par_option_h, par_option_noise, method_fitting, dt)`**"
   ]
  },
  {
   "cell_type": "code",
   "execution_count": 13,
   "id": "565850c8",
   "metadata": {
    "lines_to_next_cell": 2,
    "scrolled": true
   },
   "outputs": [
    {
     "name": "stdout",
     "output_type": "stream",
     "text": [
      "---------------------------------------------------------------------------------\n",
      "Welcome to the CRO Solver! Your simulation setup is as follows:\n",
      "---------------------------------------------------------------------------------\n",
      " - Total simulation length: N = 1200 months\n",
      " - Number of ensemble members: NE = 2\n",
      " - Numerical integration time step: dt = 1.0 months (default: 0.1)\n",
      " - Data output interval: saveat = 1.0 months (default: 1.0)\n",
      " - Initial conditions: IC = [T0, h0] = [1.0, 0.0]\n",
      " - Input parameters have the expected shapes.\n",
      " - 'n_T' = 1: White noise forcing in the T equation; 'm_T' is ignored.\n",
      " - 'n_h' = 1: White noise forcing in the h equation; 'm_h' is ignored.\n",
      " - 'n_g' = 2: Additive noise is used in the T equation; 'B' is ignored.\n",
      " - Numerical integration method: NM = 'EH' (Euler–Heun method; default)\n",
      " - Data saving method: savemethod = sampling (default)\n",
      " - External forcing is not given, therefore using\n",
      "   EF = {'E_T': [0.0, 0.0, 0.0, 0.0, 0.0], 'E_h': [0.0, 0.0, 0.0, 0.0, 0.0]}.\n",
      " - noise_custom = 999: Seed number 999 is used to generate\n",
      "   the noises shared for all ensemble members.\n",
      "---------------------------------------------------------------------------------\n",
      "Numerical integration is being performed:\n",
      "---------------------------------------------------------------------------------\n",
      " - Ensemble member: 1/2\n",
      " - Ensemble member: 2/2\n",
      "---------------------------------------------------------------------------------\n",
      "All steps are successfully completed!\n",
      "---------------------------------------------------------------------------------\n",
      "---------------------------------------------------------------------------------\n",
      "Welcome to CRO Fitting! Your fitting setups:\n",
      "---------------------------------------------------------------------------------\n",
      " - Time series length: N = len(T)*dt = 1200.0 months.\n",
      " - Prescribed terms: {'R': 1, 'F1': 1, 'b_T': 0, 'c_T': 0, 'd_T': 0}. \n",
      "                     {'F2': 1, 'epsilon': 1, 'b_h': 0}. \n",
      "   0 - Do not prescribe. \n",
      "   1 - Prescribe only the annual mean. \n",
      "   3 - Prescribe the annual mean and annual seasonality. \n",
      "   5 - Prescribe the annual mean, annual seasonality, and semi-annual seasonality.\n",
      " - Noise options: {'T': 'white', 'h': 'white', 'T_type': 'additive'}.\n",
      " - Fitting method for T and h main equations: MLE.\n",
      "---------------------------------------------------------------------------------\n",
      "All steps are successfully completed!\n",
      "---------------------------------------------------------------------------------\n",
      "The fitting results are:\n"
     ]
    },
    {
     "ename": "TypeError",
     "evalue": "'sort_dicts' is an invalid keyword argument for print()",
     "output_type": "error",
     "traceback": [
      "\u001b[0;31m---------------------------------------------------------------------------\u001b[0m",
      "\u001b[0;31mTypeError\u001b[0m                                 Traceback (most recent call last)",
      "Input \u001b[0;32mIn [13]\u001b[0m, in \u001b[0;36m<cell line: 13>\u001b[0;34m()\u001b[0m\n\u001b[1;32m     10\u001b[0m par_fitted \u001b[38;5;241m=\u001b[39m RO_fitting(T_ro[:,num_en], h_ro[:,num_en], par_option_T, par_option_h, par_option_noise, method_fitting, dt)\n\u001b[1;32m     12\u001b[0m \u001b[38;5;28mprint\u001b[39m(\u001b[38;5;124m\"\u001b[39m\u001b[38;5;124mThe fitting results are:\u001b[39m\u001b[38;5;124m\"\u001b[39m)\n\u001b[0;32m---> 13\u001b[0m \u001b[38;5;28;43mprint\u001b[39;49m\u001b[43m(\u001b[49m\u001b[43mpar_fitted\u001b[49m\u001b[43m,\u001b[49m\u001b[43m \u001b[49m\u001b[43msort_dicts\u001b[49m\u001b[38;5;241;43m=\u001b[39;49m\u001b[38;5;28;43;01mFalse\u001b[39;49;00m\u001b[43m)\u001b[49m\n",
      "\u001b[0;31mTypeError\u001b[0m: 'sort_dicts' is an invalid keyword argument for print()"
     ]
    }
   ],
   "source": [
    "# Example 5-2. RO parameter fitting with user-specified settings\n",
    "# using simulated T and h\n",
    "T_ro, h_ro, _ = RO_solver(par, IC, N, NE, NM, dt, saveat, savemethod, EF, noise_custom)\n",
    "num_en = 0\n",
    "\n",
    "par_option_T = {\"R\": 1, \"F1\": 1, \"b_T\": 0, \"c_T\": 0, \"d_T\": 0}\n",
    "par_option_h = {\"F2\": 1, \"epsilon\": 1, \"b_h\": 0}\n",
    "par_option_noise = {\"T\": \"white\", \"h\": \"white\", \"T_type\": \"additive\"}\n",
    "\n",
    "par_fitted = RO_fitting(T_ro[:,num_en], h_ro[:,num_en], par_option_T, par_option_h, par_option_noise, method_fitting, dt)\n",
    "\n",
    "print(\"The fitting results are:\")\n",
    "print(par_fitted)\n"
   ]
  },
  {
   "cell_type": "markdown",
   "id": "908f1b3b",
   "metadata": {
    "cell_marker": "\"\"\""
   },
   "source": [
    "## 6. RO Parameter Fitting from Observations and Reproducing"
   ]
  },
  {
   "cell_type": "code",
   "execution_count": null,
   "id": "2366643d",
   "metadata": {
    "scrolled": true
   },
   "outputs": [],
   "source": [
    "# load observations\n",
    "fpath = os.path.join(os.getcwd(), \"Data\", \"XRO_indices_oras5.nc\")\n",
    "nc_oras5 = Dataset(fpath, mode='r')\n",
    "T_oras5 = nc_oras5.variables['Nino34'][:]  # Nino 3.4 since 1979-01-01\n",
    "h_oras5 = nc_oras5.variables['WWV'][:]     # WWV since 1979-01-01\n",
    "time_oras5 = nc_oras5.variables['time'][:] # Days since 1979-01-01"
   ]
  },
  {
   "cell_type": "code",
   "execution_count": null,
   "id": "91cacba6",
   "metadata": {
    "scrolled": true
   },
   "outputs": [],
   "source": [
    "# setting fitting options and print the fitted parameters\n",
    "par_option_T = {\"R\": 5, \"F1\": 5, \"b_T\": 0, \"c_T\": 0, \"d_T\": 0}\n",
    "par_option_h = {\"F2\": 5, \"epsilon\": 5, \"b_h\": 0}\n",
    "par_option_noise = {\"T\": \"red\", \"h\": \"red\", \"T_type\": \"additive\"}\n",
    "\n",
    "par_fitted_obs = RO_fitting(T_oras5, h_oras5, par_option_T, par_option_h, par_option_noise)\n",
    "print(par_fitted_obs, sort_dicts=False)"
   ]
  },
  {
   "cell_type": "markdown",
   "id": "1daa13e2",
   "metadata": {
    "cell_marker": "\"\"\""
   },
   "source": [
    "**`func_mon_std(T)`** returns the **monthly standard deviations** of the input time series `T`, calculated separately for each calendar month from **January to December**.\n",
    "\n",
    "- Be aware that the reproducibility of monthly standard deviations can vary depending on the RO type specified by the user."
   ]
  },
  {
   "cell_type": "code",
   "execution_count": null,
   "id": "20cb478d",
   "metadata": {
    "scrolled": true
   },
   "outputs": [],
   "source": [
    "# RO simulations using the fitted parameters\n",
    "T_ro_obs_based, h_ro_obs_based, _ = RO_solver(par_fitted_obs, IC, N, NE, NM, dt, saveat, savemethod, EF, noise_custom)\n",
    "num_en = 0\n",
    "time_axis_ro = np.arange(0, N, saveat)\n",
    "\n",
    "# compare observationanal and RO time series\n",
    "fig, (ax1, ax2) = plt.subplots(2, 1, figsize=(12, 6), sharex=True)\n",
    "\n",
    "ax1.plot(time_oras5 / 30, T_oras5, label='Obs.', alpha=0.5)\n",
    "ax1.set_ylabel(\"T\")\n",
    "ax1.legend()\n",
    "ax1.set_xlim(0,550)\n",
    "ax1.set_ylim(-3,3)\n",
    "ax1.grid(True)\n",
    "\n",
    "ax2.plot(time_axis_ro, T_ro_obs_based[:, num_en], label='RO', alpha=0.5)\n",
    "ax2.set_xlabel(\"Time (months)\")\n",
    "ax2.set_ylabel(\"T\")\n",
    "ax2.legend()\n",
    "ax2.set_xlim(0,550)\n",
    "ax2.set_ylim(-3,3)\n",
    "ax2.grid(True)\n",
    "\n",
    "plt.tight_layout()\n",
    "plt.show()"
   ]
  },
  {
   "cell_type": "code",
   "execution_count": null,
   "id": "783c9d73",
   "metadata": {
    "scrolled": true
   },
   "outputs": [],
   "source": [
    "# compare monthly standard deviations\n",
    "monthly_std_obs = func_mon_std(T_oras5)\n",
    "monthly_std_ro = func_mon_std(T_ro_obs_based[:, num_en])\n",
    "months = list(calendar.month_abbr[1:])  # ['Jan', 'Feb', ..., 'Dec']\n",
    "\n",
    "plt.figure(figsize=(10, 5))\n",
    "plt.plot(months, monthly_std_obs, marker='o', linewidth=2, label=\"Obs.\")\n",
    "plt.plot(months, monthly_std_ro, marker='o', linewidth=2, label=\"RO\")\n",
    "plt.title(\"Monthly Standard Deviation (Jan–Dec)\")\n",
    "plt.xlabel(\"Month\")\n",
    "plt.ylabel(\"Standard Deviation\")\n",
    "plt.grid(True)\n",
    "plt.tight_layout()\n",
    "plt.legend()\n",
    "plt.show()"
   ]
  },
  {
   "cell_type": "code",
   "execution_count": null,
   "id": "60894e28",
   "metadata": {
    "lines_to_next_cell": 2,
    "scrolled": true
   },
   "outputs": [],
   "source": [
    "nc_oras5.close()"
   ]
  },
  {
   "cell_type": "markdown",
   "id": "e14de9e3",
   "metadata": {},
   "source": [
    "## 7. Load RO Parameters from the Library & Solve\n",
    "\n",
    "You can load pre-fitted RO parameters from the CRO parameter library. \n",
    "The library includes parameters estimated from observations and from 48\n",
    "CMIP6 historical simulations, for multiple RO types.\n",
    "\n",
    "### Usage\n",
    "**`par = RO_solver(data_name, RO_type)`**\n",
    "\n",
    "- **`data_name`**: data source for the parameter set.\n",
    "  - Options include the observational dataset **`ORAS5`** and **`CMIP6-historical-1`** … **`CMIP6-historical-48`**.\n",
    "  - Use **`CMIP6-historical-all`** to load all available CMIP6 members (shape `(48, 16)`).\n",
    "\n",
    "- **`RO_type`**: the RO equation type used in the parameter fitting (see CRO manual for the full list).\n",
    "\n",
    "- See the CRO manual for complete option lists and definitions.\n",
    "\n",
    "- The example below shows how to load parameter values for a Linear-White-Additive type RO equation. "
   ]
  },
  {
   "cell_type": "code",
   "execution_count": null,
   "id": "6f802243",
   "metadata": {},
   "outputs": [],
   "source": [
    "# Example 7-1. ORAS5 reanalysis (1958-2022) \n",
    "data_name = \"ORAS5\" \n",
    "RO_type = \"Linear-White-Additive\"\n",
    "par = par_load(data_name,RO_type)"
   ]
  },
  {
   "cell_type": "code",
   "execution_count": null,
   "id": "ae6a51dd",
   "metadata": {},
   "outputs": [],
   "source": [
    "# Example 7-2. CMIP6 CESM2 historial simulation (ensemble number 8) \n",
    "data_name = \"CMIP6-historical-8\" \n",
    "RO_type = \"Linear-White-Additive\"\n",
    "par = par_load(data_name,RO_type)"
   ]
  },
  {
   "cell_type": "code",
   "execution_count": null,
   "id": "a0bbef48",
   "metadata": {},
   "outputs": [],
   "source": [
    "# Example 7-3. All 48 CMIP6 historial simulations in the libarary \n",
    "# In this case, par.shape == (48, 16), i.e. 48 rows of parameter sets.\n",
    "# Use par[i] (0 ≤ i < 48) to extract parameters from the ensemble member of your choice.\n",
    "# Be careful with indexing: i = 0..(47) extract CMIP6-historical-1..(48). \n",
    "data_name = \"CMIP6-historical-all\"\n",
    "RO_type = \"Linear-White-Additive\"\n",
    "par = par_load(data_name,RO_type)"
   ]
  },
  {
   "cell_type": "markdown",
   "id": "13932f1d",
   "metadata": {},
   "source": [
    "### Applications\n",
    "\n",
    "- Using the parameter library, users can quickly set up parameters for solving the CRO model.  \n",
    "\n",
    "- The example below shows how to load the parameter set fitted for the **CMIP6 CESM2 historical simulation** with the **Seasonal–Linear–White–Additive** RO type, and then solve it.\n"
   ]
  },
  {
   "cell_type": "code",
   "execution_count": null,
   "id": "a13e4e5d",
   "metadata": {},
   "outputs": [],
   "source": [
    "# Example 7-4. Solving RO using CMIP6 historical CESM2 parameter\n",
    "data_name = \"CMIP6-historical-8\"; \n",
    "RO_type = \"Seasonal-Linear-White-Additive\"\n",
    "par = par_load(data_name, RO_type)\n",
    "\n",
    "IC = [1.0, 0.0] # % Initial conditions for T (K) and h (m) \n",
    "N = 12*100;    # Simulation length (month)\n",
    "NE = 2          # Number of ensemble members \n",
    "\n",
    "\n",
    "T_CESM2_en, h_CESM2_en, _ = RO_solver(par, IC, N, NE)\n",
    "num_en = 0\n",
    "\n",
    "time_axis_ro = np.arange(0, N)\n",
    "plt.plot(time_axis_ro, T_CESM2_en[:,num_en]) \n",
    "plt.xlabel(\"Time (months)\")\n",
    "plt.ylabel(\"T (K)\")"
   ]
  },
  {
   "cell_type": "code",
   "execution_count": null,
   "id": "f3d10535",
   "metadata": {},
   "outputs": [],
   "source": []
  }
 ],
 "metadata": {
  "jupytext": {
   "cell_metadata_filter": "-all",
   "main_language": "python",
   "notebook_metadata_filter": "-all"
  },
  "kernelspec": {
   "display_name": "Python 3 (ipykernel)",
   "language": "python",
   "name": "python3"
  },
  "language_info": {
   "codemirror_mode": {
    "name": "ipython",
    "version": 3
   },
   "file_extension": ".py",
   "mimetype": "text/x-python",
   "name": "python",
   "nbconvert_exporter": "python",
   "pygments_lexer": "ipython3",
   "version": "3.9.12"
  }
 },
 "nbformat": 4,
 "nbformat_minor": 5
}
