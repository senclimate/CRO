{
 "cells": [
  {
   "cell_type": "markdown",
   "id": "036f1d90-654d-4a1d-a0b3-d41f03723dfd",
   "metadata": {},
   "source": [
    "# RO Types and Variants\n",
    "\n",
    "The different combinations of parameter choices above allow us to consider a total of 24 types of RO by varying the deterministic terms (linear or nonlinear), noise coefficient (additive or multiplicative), noise color (white or red), and inclusion of seasonality in parameters (fixed or seasonal). \n",
    "\n",
    "\n",
    "\n",
    "\n",
    "\n",
    "\n",
    "\n"
   ]
  }
 ],
 "metadata": {
  "kernelspec": {
   "display_name": "Python 3 (ipykernel)",
   "language": "python",
   "name": "python3"
  },
  "language_info": {
   "codemirror_mode": {
    "name": "ipython",
    "version": 3
   },
   "file_extension": ".py",
   "mimetype": "text/x-python",
   "name": "python",
   "nbconvert_exporter": "python",
   "pygments_lexer": "ipython3",
   "version": "3.12.11"
  }
 },
 "nbformat": 4,
 "nbformat_minor": 5
}
