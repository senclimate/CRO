{
 "cells": [
  {
   "cell_type": "markdown",
   "id": "9ef9c950-167e-432a-81ae-755b4b9af24c",
   "metadata": {
    "execution": {
     "iopub.execute_input": "2025-09-06T19:17:09.474856Z",
     "iopub.status.busy": "2025-09-06T19:17:09.474539Z",
     "iopub.status.idle": "2025-09-06T19:17:09.488398Z",
     "shell.execute_reply": "2025-09-06T19:17:09.487900Z",
     "shell.execute_reply.started": "2025-09-06T19:17:09.474826Z"
    }
   },
   "source": [
    "# RO Master Equations\n",
    "The CRO code package is a Python/MATLAB software package for solving and fitting the ENSO RO model. Here, we introduce the master RO equation, which can consider various types of RO models. The master RO equation is given as:  \n",
    "\n",
    "$$\\displaystyle \\frac{dT}{dt} = RT + F_{1}h + b_{T}T^{2} − c_{T}T^{3} + d_{T}T \\cdot h + \\sigma_{T}N_{T}(1+g_{T})+E_{T}$$\n",
    "\n",
    "\n",
    "$$\\displaystyle \\frac{dh}{dt} = −\\varepsilon{h} − F_{2}T − b_{h}T^{2} + \\sigma_{h}N_{h}+E_{h}$$\n",
    "\n",
    "\n",
    "$$\\displaystyle \\frac{d\\xi_T}{dt} = -m_T \\xi_T + \\sqrt{2 m_T} w_T$$\n",
    "\n",
    "\n",
    "$$\\displaystyle \\frac{d\\xi_h}{dt} = -m_h \\xi_h + \\sqrt{2 m_h} w_h$$\n",
    "\n",
    "\n",
    "$$N_T = \\begin{cases}\n",
    "         \\xi_T, & \\text{if } n_T = 0 \\quad \\text{(red noise)} \\\\\n",
    "         w_T, & \\text{if } n_T = 1 \\quad \\text{(white noise)}\n",
    "         \\end{cases}$$\n",
    "\n",
    "\n",
    "$$N_h = \\begin{cases}\n",
    "         \\xi_h, & \\text{if } n_h = 0 \\quad \\text{(red noise)} \\\\\n",
    "         w_h, & \\text{if } n_h = 1 \\quad \\text{(white noise)}\n",
    "         \\end{cases}$$\n",
    "\n",
    "\n",
    "$$g_T = \\begin{cases}\n",
    "         B \\cdot T, & \\text{if } n_g = 0 \\quad \\text{(linear multiplicative noise)} \\\\\n",
    "         B \\cdot H(T) \\cdot T, & \\text{if } n_g = 1 \\quad \\text{(Heaviside-based multiplicative noise)} \\\\\n",
    "         0 & \\text{if } n_g = 2 \\quad \\text{(additive noise)}\n",
    "         \\end{cases}$$\n",
    "\n",
    "- $T$ (K) and $h$ (m) represent the ENSO sea surface temperature (SST) and thermocline depth anomalies, respectively.\n",
    "- $w_T$ and $w_h$ are uncorrelated Gaussian white noise forcings with zero mean and unit variance, applied to the $T$ and $h$ equations, respectively.\n",
    "- $E_T$ and $E_h$ are external forcings applied to the $T$ and $h$ equations, respectively.\n"
   ]
  }
 ],
 "metadata": {
  "kernelspec": {
   "display_name": "Python 3 (ipykernel)",
   "language": "python",
   "name": "python3"
  },
  "language_info": {
   "codemirror_mode": {
    "name": "ipython",
    "version": 3
   },
   "file_extension": ".py",
   "mimetype": "text/x-python",
   "name": "python",
   "nbconvert_exporter": "python",
   "pygments_lexer": "ipython3",
   "version": "3.12.5"
  }
 },
 "nbformat": 4,
 "nbformat_minor": 5
}
