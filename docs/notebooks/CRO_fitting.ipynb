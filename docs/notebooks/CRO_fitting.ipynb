{
 "cells": [
  {
   "cell_type": "markdown",
   "id": "8b364e86-fc6c-4765-ba0a-fcb43cdf3e18",
   "metadata": {},
   "source": [
    "# Fitting\n",
    "Author: Sen Zhao\n"
   ]
  },
  {
   "cell_type": "code",
   "execution_count": 1,
   "id": "e89a1089",
   "metadata": {
    "lines_to_next_cell": 2
   },
   "outputs": [],
   "source": [
    "import numpy as np\n",
    "import matplotlib.pyplot as plt\n",
    "from netCDF4 import Dataset\n",
    "import os\n",
    "import sys\n",
    "import calendar\n",
    "\n",
    "sys.path.append(os.path.abspath(\"./Code\"))\n",
    "sys.path.append(os.path.abspath(\"./Data\"))\n",
    "\n",
    "from RO_solver import *\n",
    "from RO_solver_analytic import *\n",
    "from RO_std_analytic import *\n",
    "from RO_BWJ import *\n",
    "from RO_fitting import *\n",
    "from func_mon_std import *\n",
    "from par_load import *"
   ]
  },
  {
   "cell_type": "code",
   "execution_count": 2,
   "id": "66ff7c12",
   "metadata": {
    "lines_to_next_cell": 2
   },
   "outputs": [],
   "source": [
    "# load observations\n",
    "fpath = os.path.join(os.getcwd(), \"Data\", \"XRO_indices_oras5.nc\")\n",
    "nc_oras5 = Dataset(fpath, mode='r')\n",
    "T_oras5 = nc_oras5.variables['Nino34'][:]  # Nino 3.4 since 1979-01-01\n",
    "h_oras5 = nc_oras5.variables['WWV'][:]     # WWV since 1979-01-01\n",
    "time_oras5 = nc_oras5.variables['time'][:] # Days since 1979-01-01"
   ]
  },
  {
   "cell_type": "code",
   "execution_count": 3,
   "id": "0dbe5033",
   "metadata": {
    "lines_to_next_cell": 2
   },
   "outputs": [
    {
     "name": "stdout",
     "output_type": "stream",
     "text": [
      "---------------------------------------------------------------------------------\n",
      "Welcome to CRO Fitting! Your fitting setups:\n",
      "---------------------------------------------------------------------------------\n",
      " - Data time step is not given, defaulting to: dt = 1.0 months.\n",
      " - Time series length: N = len(T)*dt = 552.0 months.\n",
      " - Prescribed terms: {'R': 5, 'F1': 5, 'b_T': 0, 'c_T': 0, 'd_T': 0}. \n",
      "                     {'F2': 5, 'epsilon': 5, 'b_h': 0}. \n",
      "   0 - Do not prescribe. \n",
      "   1 - Prescribe only the annual mean. \n",
      "   3 - Prescribe the annual mean and annual seasonality. \n",
      "   5 - Prescribe the annual mean, annual seasonality, and semi-annual seasonality.\n",
      " - Noise options: {'T': 'red', 'h': 'red', 'T_type': 'additive'}.\n",
      " - Fitting method for T and h red noises: ARn.\n",
      "   This option is defined internally within RO_fitting.py.\n",
      "   Options available are: LR or AR1 or ARn.\n",
      " - Fitting method for T and h main equations: None.\n",
      "Referring to table_default_fitting_method.txt and using LR-F\n",
      "---------------------------------------------------------------------------------\n",
      "All steps are successfully completed!\n",
      "---------------------------------------------------------------------------------\n",
      "{'R': [-0.05010900876953235,\n",
      "       0.13840597531543616,\n",
      "       -2.6083390996254265,\n",
      "       0.034505752790208455,\n",
      "       -2.118528018143058],\n",
      " 'F1': [0.013458891427639825,\n",
      "        0.010725274221021902,\n",
      "        -0.9199414559762591,\n",
      "        0.008899668089169683,\n",
      "        -2.5173962011440882],\n",
      " 'F2': [1.1458986989806124,\n",
      "        0.8214626458774326,\n",
      "        0.820753398080978,\n",
      "        0.4736954591050396,\n",
      "        3.04461354340893],\n",
      " 'epsilon': [0.021296089257346145,\n",
      "             0.031966026879537895,\n",
      "             -0.08173522644584352,\n",
      "             0.027550299986507508,\n",
      "             -3.0597748995707454],\n",
      " 'b_T': [],\n",
      " 'c_T': [],\n",
      " 'd_T': [],\n",
      " 'b_h': [],\n",
      " 'sigma_T': [0.1946249583408544],\n",
      " 'sigma_h': [1.4684258321934496],\n",
      " 'B': [],\n",
      " 'm_T': [1.695878210211052],\n",
      " 'm_h': [1.1376975544156567],\n",
      " 'n_T': [0],\n",
      " 'n_h': [0],\n",
      " 'n_g': [2]}\n"
     ]
    }
   ],
   "source": [
    "# setting fitting options and print the fitted parameters\n",
    "par_option_T = {\"R\": 5, \"F1\": 5, \"b_T\": 0, \"c_T\": 0, \"d_T\": 0}\n",
    "par_option_h = {\"F2\": 5, \"epsilon\": 5, \"b_h\": 0}\n",
    "par_option_noise = {\"T\": \"red\", \"h\": \"red\", \"T_type\": \"additive\"}\n",
    "\n",
    "par_fitted_obs = RO_fitting(T_oras5, h_oras5, par_option_T, par_option_h, par_option_noise)\n",
    "print(par_fitted_obs)"
   ]
  },
  {
   "cell_type": "code",
   "execution_count": 4,
   "id": "89234f6a",
   "metadata": {
    "lines_to_next_cell": 2,
    "scrolled": true
   },
   "outputs": [],
   "source": [
    "nc_oras5.close()"
   ]
  }
 ],
 "metadata": {
  "jupytext": {
   "cell_metadata_filter": "-all",
   "main_language": "python",
   "notebook_metadata_filter": "-all"
  },
  "kernelspec": {
   "display_name": "Python 3 (ipykernel)",
   "language": "python",
   "name": "python3"
  },
  "language_info": {
   "codemirror_mode": {
    "name": "ipython",
    "version": 3
   },
   "file_extension": ".py",
   "mimetype": "text/x-python",
   "name": "python",
   "nbconvert_exporter": "python",
   "pygments_lexer": "ipython3",
   "version": "3.11.13"
  }
 },
 "nbformat": 4,
 "nbformat_minor": 5
}
